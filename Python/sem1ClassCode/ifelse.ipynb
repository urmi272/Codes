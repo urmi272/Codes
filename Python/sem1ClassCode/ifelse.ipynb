{
 "cells": [
  {
   "cell_type": "code",
   "execution_count": null,
   "metadata": {},
   "outputs": [],
   "source": [
    "a = int(input(\"Enter a:\"))\n",
    "b = int(input(\"Enter b:\"))\n",
    "c = int(input(\"Enter c:\"))\n",
    "\n",
    "if a>b and a>c:\n",
    "  print(\"a is larger!\")\n",
    "if b>a and b>c:\n",
    "  print(\"b is larger!\")\n",
    "if c>b and c>a:\n",
    "  print(\"c is larger!\")"
   ]
  }
 ],
 "metadata": {
  "kernelspec": {
   "display_name": "Python 3",
   "language": "python",
   "name": "python3"
  },
  "language_info": {
   "name": "python",
   "version": "3.11.5"
  }
 },
 "nbformat": 4,
 "nbformat_minor": 2
}
