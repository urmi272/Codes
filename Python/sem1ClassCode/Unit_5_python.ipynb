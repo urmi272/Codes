{
  "nbformat": 4,
  "nbformat_minor": 0,
  "metadata": {
    "colab": {
      "provenance": []
    },
    "kernelspec": {
      "name": "python3",
      "display_name": "Python 3"
    },
    "language_info": {
      "name": "python"
    }
  },
  "cells": [
    {
      "cell_type": "code",
      "execution_count": null,
      "metadata": {
        "id": "StAtwgQNOFpv"
      },
      "outputs": [],
      "source": [
        "# Declare an empty list\n",
        "empty_list = []\n",
        "\n",
        "\n"
      ]
    },
    {
      "cell_type": "code",
      "source": [
        "# Declare a list with values\n",
        "my_list = [1, 2, 3, 4, 5]\n",
        "\n"
      ],
      "metadata": {
        "id": "xLIR9yFvUTyU"
      },
      "execution_count": null,
      "outputs": []
    },
    {
      "cell_type": "code",
      "source": [
        "my_list"
      ],
      "metadata": {
        "colab": {
          "base_uri": "https://localhost:8080/"
        },
        "id": "gxtGmYQaD3po",
        "outputId": "b5df0afb-f30a-44d7-9d51-bff47512f90c"
      },
      "execution_count": null,
      "outputs": [
        {
          "output_type": "execute_result",
          "data": {
            "text/plain": [
              "[1, 2, 3, 4, 5]"
            ]
          },
          "metadata": {},
          "execution_count": 3
        }
      ]
    },
    {
      "cell_type": "code",
      "source": [
        "# Lists can have elements of different data types\n",
        "mixed_list = [1, \"hello\", 3.14, True]\n",
        "\n"
      ],
      "metadata": {
        "id": "RKym0TqJUZLg"
      },
      "execution_count": null,
      "outputs": []
    },
    {
      "cell_type": "code",
      "source": [
        "mixed_list"
      ],
      "metadata": {
        "colab": {
          "base_uri": "https://localhost:8080/"
        },
        "id": "_6xCtPg5Uf4b",
        "outputId": "0dc42afd-ff9f-414b-f3a0-964cc9917f8d"
      },
      "execution_count": null,
      "outputs": [
        {
          "output_type": "execute_result",
          "data": {
            "text/plain": [
              "[1, 'hello', 3.14, True]"
            ]
          },
          "metadata": {},
          "execution_count": 5
        }
      ]
    },
    {
      "cell_type": "code",
      "source": [
        "# Import the array module\n",
        "from array import array\n",
        "\n",
        "# Create an array of integers\n",
        "integer_array = array('i', [1, 2, 3, 4, 5])     # array(data-type, value list)\n",
        "\n",
        "# Accessing elements in an array\n",
        "print(integer_array[0])  # Output: 1\n",
        "print(integer_array[2])  # Output: 3\n",
        "\n",
        "# Modifying elements in an array\n",
        "integer_array[1] = 10\n",
        "print(integer_array)  # Output: array('i', [1, 10, 3, 4, 5])\n",
        "\n",
        "# Get the length of the array\n",
        "print(len(integer_array))  # Output: 5\n"
      ],
      "metadata": {
        "colab": {
          "base_uri": "https://localhost:8080/"
        },
        "id": "WuQJCIyXOzrG",
        "outputId": "ef17c2b4-c66d-4fc5-b833-cbce2135c4f3"
      },
      "execution_count": null,
      "outputs": [
        {
          "output_type": "stream",
          "name": "stdout",
          "text": [
            "1\n",
            "3\n",
            "array('i', [1, 10, 3, 4, 5])\n",
            "5\n"
          ]
        }
      ]
    },
    {
      "cell_type": "code",
      "source": [
        "# Using a list\n",
        "my_list = [10, 20, 30, 40, 50]\n",
        "\n",
        "# Accessing elements in a list\n",
        "element_at_index_2 = my_list[2]\n",
        "print(element_at_index_2)  # Output: 30\n",
        "\n",
        "# Using the array module\n",
        "from array import array\n",
        "\n",
        "# Create an array of integers\n",
        "integer_array = array('i', [1, 2, 3, 4, 5])\n",
        "\n",
        "# Accessing elements in an array\n",
        "element_at_index_3 = integer_array[3]\n",
        "print(element_at_index_3)  # Output: 4\n"
      ],
      "metadata": {
        "colab": {
          "base_uri": "https://localhost:8080/"
        },
        "id": "EUJU0vsMPW8i",
        "outputId": "cdef432a-4ac0-4df5-bc2c-56a005693825"
      },
      "execution_count": null,
      "outputs": [
        {
          "output_type": "stream",
          "name": "stdout",
          "text": [
            "30\n",
            "4\n"
          ]
        }
      ]
    },
    {
      "cell_type": "code",
      "source": [
        "# Using a list\n",
        "last_element = my_list[-1]\n",
        "print(last_element)  # Output: 50\n",
        "\n",
        "# Using the array module\n",
        "last_element_array = integer_array[-1]\n",
        "print(last_element_array)  # Output: 5\n"
      ],
      "metadata": {
        "colab": {
          "base_uri": "https://localhost:8080/"
        },
        "id": "BmzPzeREQUDD",
        "outputId": "e2db92fb-b600-4741-ae96-e54173a5baf2"
      },
      "execution_count": null,
      "outputs": [
        {
          "output_type": "stream",
          "name": "stdout",
          "text": [
            "50\n",
            "5\n"
          ]
        }
      ]
    },
    {
      "cell_type": "code",
      "source": [
        "# Inserting Element in array"
      ],
      "metadata": {
        "id": "zI2eUditQULP"
      },
      "execution_count": null,
      "outputs": []
    },
    {
      "cell_type": "code",
      "source": [
        "# Using a list\n",
        "my_list = [10, 20, 30, 40, 50]\n",
        "\n",
        "# Inserting an element at a specific index\n",
        "my_list.insert(2, 25)  # Insert 25 at index 2 (index position, value)\n",
        "print(my_list)  # Output: [10, 20, 25, 30, 40, 50]\n",
        "\n",
        "# Appending an element to the end of the list\n",
        "my_list.append(60)\n",
        "print(my_list)  # Output: [10, 20, 25, 30, 40, 50, 60]\n"
      ],
      "metadata": {
        "colab": {
          "base_uri": "https://localhost:8080/"
        },
        "id": "sXA_u1GUQUO6",
        "outputId": "a8d4c20f-3f46-46a8-c147-9f86fbc8ba35"
      },
      "execution_count": null,
      "outputs": [
        {
          "output_type": "stream",
          "name": "stdout",
          "text": [
            "[10, 20, 25, 30, 40, 50]\n",
            "[10, 20, 25, 30, 40, 50, 60]\n"
          ]
        }
      ]
    },
    {
      "cell_type": "code",
      "source": [
        "from array import array\n",
        "\n",
        "# Create an array of integers\n",
        "integer_array = array('i', [1, 2, 3, 4, 5])\n",
        "\n",
        "# Inserting an element at a specific index\n",
        "integer_array.insert(2, 99)  # Insert 99 at index 2\n",
        "print(integer_array)  # Output: array('i', [1, 2, 99, 3, 4, 5])\n",
        "\n",
        "# Appending an element to the end of the array\n",
        "integer_array.append(100)\n",
        "print(integer_array)  # Output: array('i', [1, 2, 99, 3, 4, 5, 100])\n"
      ],
      "metadata": {
        "colab": {
          "base_uri": "https://localhost:8080/"
        },
        "id": "azKWKzXNQURd",
        "outputId": "21b4c155-d30f-4c27-eb44-6e6ec2a9132c"
      },
      "execution_count": null,
      "outputs": [
        {
          "output_type": "stream",
          "name": "stdout",
          "text": [
            "array('i', [1, 2, 99, 3, 4, 5])\n",
            "array('i', [1, 2, 99, 3, 4, 5, 100])\n"
          ]
        }
      ]
    },
    {
      "cell_type": "code",
      "source": [
        "#removal of an element from an array"
      ],
      "metadata": {
        "id": "_vZlTMdxQUUM"
      },
      "execution_count": null,
      "outputs": []
    },
    {
      "cell_type": "code",
      "source": [
        "# Create an array of integers\n",
        "integer_array = array('i', [1, 2, 3, 4, 5])\n",
        "integer_array.remove(3) #\n",
        "print(integer_array)"
      ],
      "metadata": {
        "colab": {
          "base_uri": "https://localhost:8080/"
        },
        "id": "PZHun6VKQUWr",
        "outputId": "4123afe4-e2e5-493a-f65b-d7af7a6e291f"
      },
      "execution_count": null,
      "outputs": [
        {
          "output_type": "stream",
          "name": "stdout",
          "text": [
            "array('i', [1, 2, 4, 5])\n"
          ]
        }
      ]
    },
    {
      "cell_type": "code",
      "source": [
        "len(integer_array)"
      ],
      "metadata": {
        "colab": {
          "base_uri": "https://localhost:8080/"
        },
        "id": "D4FeaPOWYkPL",
        "outputId": "caa3936c-16ce-49ef-d59a-f93ed3b38d03"
      },
      "execution_count": null,
      "outputs": [
        {
          "output_type": "execute_result",
          "data": {
            "text/plain": [
              "4"
            ]
          },
          "metadata": {},
          "execution_count": 12
        }
      ]
    },
    {
      "cell_type": "code",
      "source": [
        "a=array('d', [2.2,1.2,3.4])\n",
        "b=array('d',[3.4,4.2])\n",
        "c=array('i')\n"
      ],
      "metadata": {
        "id": "e7QUIEJWb3Ot"
      },
      "execution_count": null,
      "outputs": []
    },
    {
      "cell_type": "code",
      "source": [
        "c=a+b"
      ],
      "metadata": {
        "id": "mp8y7ZOacIqr"
      },
      "execution_count": null,
      "outputs": []
    },
    {
      "cell_type": "code",
      "source": [
        "c"
      ],
      "metadata": {
        "id": "tiPl8QwGcLy_",
        "outputId": "4539f6ba-7262-4c07-eb06-bd116f3eab9a",
        "colab": {
          "base_uri": "https://localhost:8080/"
        }
      },
      "execution_count": null,
      "outputs": [
        {
          "output_type": "execute_result",
          "data": {
            "text/plain": [
              "array('d', [2.2, 1.2, 3.4, 3.4, 4.2])"
            ]
          },
          "metadata": {},
          "execution_count": 23
        }
      ]
    },
    {
      "cell_type": "code",
      "source": [
        "# Using reverse() method\n",
        "my_list = [1, 2, 3, 4, 5]\n",
        "my_list.reverse()           # reverse() this is a predefined function and it will reverse all the element  from my_list\n",
        "print(my_list)\n",
        "\n",
        "\n"
      ],
      "metadata": {
        "colab": {
          "base_uri": "https://localhost:8080/"
        },
        "id": "PpahLe77YmLr",
        "outputId": "1dafaa24-5bc8-471d-f28e-0a623bb86b4e"
      },
      "execution_count": null,
      "outputs": [
        {
          "output_type": "stream",
          "name": "stdout",
          "text": [
            "[5, 4, 3, 2, 1]\n"
          ]
        }
      ]
    },
    {
      "cell_type": "code",
      "source": [
        "# Using slicing syntax\n",
        "my_list = [1, 2, 3, 4, 5]\n",
        "new_list = my_list[::-1]                # it will read the elements from the back side means 5-4-3-2-1\n",
        "print(new_list)"
      ],
      "metadata": {
        "colab": {
          "base_uri": "https://localhost:8080/"
        },
        "id": "Y6MzI03eZJPY",
        "outputId": "4ed1093a-188c-4e5b-b8cf-0a54fea00a8e"
      },
      "execution_count": null,
      "outputs": [
        {
          "output_type": "stream",
          "name": "stdout",
          "text": [
            "[5, 4, 3, 2, 1]\n"
          ]
        }
      ]
    },
    {
      "cell_type": "code",
      "source": [
        "#Reverse array in list using loop\n",
        "arr=[4,5,2,6,8]\n",
        "print(\"original array:\");\n",
        "for i in range (0,len(arr)):                      # start from 0 index that is 4 and execute till len(arr) means index 4 and its value is 8\n",
        "  print(arr[i])\n",
        "print(\"array in reverse order:\");\n",
        "for i in range(len(arr)-1,-1,-1):             # start from the last index then decrement the index value\n",
        "  print(arr[i])"
      ],
      "metadata": {
        "colab": {
          "base_uri": "https://localhost:8080/"
        },
        "id": "g0aF-GWnZWUy",
        "outputId": "ffbc40ce-55e2-4aa7-ad7d-9bd2b789cb25"
      },
      "execution_count": null,
      "outputs": [
        {
          "output_type": "stream",
          "name": "stdout",
          "text": [
            "original array:\n",
            "4\n",
            "5\n",
            "2\n",
            "6\n",
            "8\n",
            "array in reverse order:\n",
            "8\n",
            "6\n",
            "2\n",
            "5\n",
            "4\n"
          ]
        }
      ]
    },
    {
      "cell_type": "code",
      "source": [
        "#using reversed() method\n",
        "arr=[12,34,56,78]\n",
        "print(\"original array is :\",arr)\n",
        "result=list(reversed(arr))\n",
        "print(\"Resultant new reversed Array:\", result)"
      ],
      "metadata": {
        "colab": {
          "base_uri": "https://localhost:8080/"
        },
        "id": "ABlUsIx4ac4d",
        "outputId": "90eb1920-5dc4-4d37-ef5a-babca52ebcba"
      },
      "execution_count": null,
      "outputs": [
        {
          "output_type": "stream",
          "name": "stdout",
          "text": [
            "original array is : [12, 34, 56, 78]\n",
            "Resultant new reversed Array: [78, 56, 34, 12]\n"
          ]
        }
      ]
    },
    {
      "cell_type": "code",
      "source": [
        "import array\n",
        "new_arr=array.array('i',[10,20,30,40])\n",
        "print('original array is:',new_arr)\n",
        "res_arr=array.array('i',reversed(new_arr))\n",
        "print('resultant reversed array:', res_arr)"
      ],
      "metadata": {
        "colab": {
          "base_uri": "https://localhost:8080/"
        },
        "id": "8o7Z2jqMbPT9",
        "outputId": "4be22961-1688-4440-d667-e2900daf5171"
      },
      "execution_count": null,
      "outputs": [
        {
          "output_type": "stream",
          "name": "stdout",
          "text": [
            "original array is: array('i', [10, 20, 30, 40])\n",
            "resultant reversed array: array('i', [40, 30, 20, 10])\n"
          ]
        }
      ]
    },
    {
      "cell_type": "code",
      "source": [
        "import numpy as np\n",
        "new_arr=np.array(['a','s','k','p','y','t','h','o','n'])\n",
        "print('original array:',new_arr)\n",
        "res_arr=np.flip(new_arr)\n",
        "print('resultant reversed array:',res_arr)"
      ],
      "metadata": {
        "colab": {
          "base_uri": "https://localhost:8080/"
        },
        "id": "TUQZBIG6cQYR",
        "outputId": "0210db26-f514-49fe-aa64-be588ed75a07"
      },
      "execution_count": null,
      "outputs": [
        {
          "output_type": "stream",
          "name": "stdout",
          "text": [
            "original array: ['a' 's' 'k' 'p' 'y' 't' 'h' 'o' 'n']\n",
            "resultant reversed array: ['n' 'o' 'h' 't' 'y' 'p' 'k' 's' 'a']\n"
          ]
        }
      ]
    },
    {
      "cell_type": "code",
      "source": [
        "my_list = [1, 2, 3, 1, 2, 1, 4, 5, 4, 3, 2]\n",
        "\n",
        "# Count occurrences of each element\n",
        "for element in set(my_list):  # Using set to iterate over unique elements\n",
        "    count = my_list.count(element)\n",
        "    print(f\"{element}: {count} times\")\n"
      ],
      "metadata": {
        "colab": {
          "base_uri": "https://localhost:8080/"
        },
        "id": "I__qrj0veskc",
        "outputId": "7754f3c5-4d23-499a-c3fe-ae6f05399756"
      },
      "execution_count": null,
      "outputs": [
        {
          "output_type": "stream",
          "name": "stdout",
          "text": [
            "1: 3 times\n",
            "2: 3 times\n",
            "3: 2 times\n",
            "4: 2 times\n",
            "5: 1 times\n"
          ]
        }
      ]
    },
    {
      "cell_type": "code",
      "source": [
        "my_list = [1, 2, 3, 1, 2, 1, 4, 5, 4, 3, 2]\n",
        "\n",
        "# Using a count variable\n",
        "count_dict = {}  # Dictionary to store counts\n",
        "\n",
        "for element in my_list:\n",
        "    if element in count_dict:\n",
        "        count_dict[element] += 1\n",
        "    else:\n",
        "        count_dict[element] = 1\n",
        "\n",
        "# Access counts\n",
        "for element, count in count_dict.items():\n",
        "    print(f\"{element}: {count} times\")\n"
      ],
      "metadata": {
        "colab": {
          "base_uri": "https://localhost:8080/"
        },
        "id": "8j2IHAmnfHZ6",
        "outputId": "b270a701-28c1-43a7-e96c-f184e9d49bce"
      },
      "execution_count": null,
      "outputs": [
        {
          "output_type": "stream",
          "name": "stdout",
          "text": [
            "1: 3 times\n",
            "2: 3 times\n",
            "3: 2 times\n",
            "4: 2 times\n",
            "5: 1 times\n"
          ]
        }
      ]
    },
    {
      "cell_type": "code",
      "source": [
        "my_list = [1, 2, 3, 1, 2, 1, 4, 5, 4, 3, 2]\n",
        "\n",
        "# Using a single count variable\n",
        "count = 0\n",
        "\n",
        "for element in my_list:\n",
        "    if element == 4:  # Change to the element you want to count\n",
        "        count += 1\n",
        "\n",
        "print(f\"Count of 4: {count} times\")\n"
      ],
      "metadata": {
        "colab": {
          "base_uri": "https://localhost:8080/"
        },
        "id": "MUQG_VXogBRG",
        "outputId": "0b7e3bb9-cfd7-4695-9bd8-24b68f60a2c4"
      },
      "execution_count": null,
      "outputs": [
        {
          "output_type": "stream",
          "name": "stdout",
          "text": [
            "Count of 4: 2 times\n"
          ]
        }
      ]
    },
    {
      "cell_type": "code",
      "source": [
        "my_list = [1, 2, 3, 1, 2, 1, 4, 5, 4, 3, 2]\n",
        "\n",
        "# Using dict to count occurrences\n",
        "count_dict = {}\n",
        "for element in my_list:\n",
        "    count_dict[element] = count_dict.get(element, 0) + 1\n",
        "\n",
        "# Access counts\n",
        "for element, count in count_dict.items():\n",
        "    print(f\"{element}: {count} times\")"
      ],
      "metadata": {
        "colab": {
          "base_uri": "https://localhost:8080/"
        },
        "id": "UV0b4FrbgEGR",
        "outputId": "308628cb-7732-447c-ba6b-93fd5dd355a6"
      },
      "execution_count": null,
      "outputs": [
        {
          "output_type": "stream",
          "name": "stdout",
          "text": [
            "1: 3 times\n",
            "2: 3 times\n",
            "3: 2 times\n",
            "4: 2 times\n",
            "5: 1 times\n"
          ]
        }
      ]
    },
    {
      "cell_type": "code",
      "source": [
        "from collections import Counter\n",
        "\n",
        "my_list = [1, 2, 3, 1, 2, 1, 4, 5, 4, 3, 2]\n",
        "\n",
        "# Using Counter\n",
        "counter = Counter(my_list)\n",
        "\n",
        "# Access counts\n",
        "for element, count in counter.items():\n",
        "    print(f\"{element}: {count} times\")\n"
      ],
      "metadata": {
        "colab": {
          "base_uri": "https://localhost:8080/"
        },
        "id": "62CZKyeqgkH4",
        "outputId": "32377f99-d79d-4da8-c4a0-5d0f4e3c6dae"
      },
      "execution_count": null,
      "outputs": [
        {
          "output_type": "stream",
          "name": "stdout",
          "text": [
            "1: 3 times\n",
            "2: 3 times\n",
            "3: 2 times\n",
            "4: 2 times\n",
            "5: 1 times\n"
          ]
        }
      ]
    },
    {
      "cell_type": "code",
      "source": [
        "array= [10,20,23,43,11]\n",
        "max_element=max(array)\n",
        "min_element=min(array)\n",
        "print(f\"maximum elemet:{max_element}\")\n",
        "print(f\"minimum elemet:{min_element}\")"
      ],
      "metadata": {
        "colab": {
          "base_uri": "https://localhost:8080/"
        },
        "id": "cKAJYsHCgnXW",
        "outputId": "3c0b1369-52e6-4e98-bd37-c6e08fb2026c"
      },
      "execution_count": null,
      "outputs": [
        {
          "output_type": "stream",
          "name": "stdout",
          "text": [
            "maximum elemet:43\n",
            "minimum elemet:10\n"
          ]
        }
      ]
    },
    {
      "cell_type": "code",
      "source": [
        "#removal of duplicated\n",
        "ordered_ary=[1,2,2,13,14,22,22,34]\n",
        "unique_ary=[ordered_ary[i] for i in range(len(ordered_ary)) if i==0 or ordered_ary[i] != ordered_ary[i-1]]\n",
        "print(unique_ary)"
      ],
      "metadata": {
        "colab": {
          "base_uri": "https://localhost:8080/"
        },
        "id": "rpxQDlA1l-6l",
        "outputId": "523b81da-ecc8-4efa-b33a-c95f8b3d3870"
      },
      "execution_count": null,
      "outputs": [
        {
          "output_type": "stream",
          "name": "stdout",
          "text": [
            "[1, 2, 13, 14, 22, 34]\n"
          ]
        }
      ]
    },
    {
      "cell_type": "code",
      "source": [
        "# How to delete element form an array using index value"
      ],
      "metadata": {
        "id": "oI0cB44YGfuY"
      },
      "execution_count": null,
      "outputs": []
    },
    {
      "cell_type": "code",
      "source": [
        "import array\n",
        "# Create an array of integers\n",
        "integer_array = array.array('i', [1, 2, 3, 4, 5])\n",
        "\n",
        "# deleting an element of a specific index\n",
        "del integer_array[2]\n",
        "print(integer_array)"
      ],
      "metadata": {
        "colab": {
          "base_uri": "https://localhost:8080/"
        },
        "id": "xn4k2QVxXy1I",
        "outputId": "0e2562b4-aae2-4602-bc46-fdb5c9892d45"
      },
      "execution_count": null,
      "outputs": [
        {
          "output_type": "stream",
          "name": "stdout",
          "text": [
            "array('i', [1, 2, 4, 5])\n"
          ]
        }
      ]
    },
    {
      "cell_type": "code",
      "source": [
        "# how to update an array"
      ],
      "metadata": {
        "id": "YDD1sCarcfM0"
      },
      "execution_count": null,
      "outputs": []
    },
    {
      "cell_type": "code",
      "source": [
        "import array\n",
        "# Create an array of integers\n",
        "integer_array = array.array('i', [1, 2, 3, 4, 5])\n",
        "\n",
        "# updating an element of a specific index\n",
        "integer_array[2]=30\n",
        "print(integer_array)"
      ],
      "metadata": {
        "colab": {
          "base_uri": "https://localhost:8080/"
        },
        "id": "ilRu6j5idYrz",
        "outputId": "7dd5dd3e-b51a-41da-9025-d0f1b2b41c47"
      },
      "execution_count": null,
      "outputs": [
        {
          "output_type": "stream",
          "name": "stdout",
          "text": [
            "array('i', [1, 2, 30, 4, 5])\n"
          ]
        }
      ]
    },
    {
      "cell_type": "code",
      "source": [
        "# how to find maximum number in an array"
      ],
      "metadata": {
        "id": "PPU1n-wUdkup"
      },
      "execution_count": null,
      "outputs": []
    },
    {
      "cell_type": "code",
      "source": [
        "import array\n",
        "# Create an array of integers\n",
        "integer_array = array.array('i', [1, 2, 3, 4, 5])\n",
        "min(integer_array)\n",
        "print(min(integer_array) )\n",
        "\n",
        "max(integer_array)\n",
        "print(max(integer_array) )"
      ],
      "metadata": {
        "colab": {
          "base_uri": "https://localhost:8080/"
        },
        "id": "9rJCfb2Fe5vn",
        "outputId": "e04db73e-de76-4d01-9705-4beaf214187e"
      },
      "execution_count": null,
      "outputs": [
        {
          "output_type": "stream",
          "name": "stdout",
          "text": [
            "1\n",
            "5\n"
          ]
        }
      ]
    },
    {
      "cell_type": "code",
      "source": [
        "#Dealing with SET"
      ],
      "metadata": {
        "id": "l5SIHSDIfJdX"
      },
      "execution_count": null,
      "outputs": []
    },
    {
      "cell_type": "code",
      "source": [
        "def MAX(sets):\n",
        "  return (max(sets))\n",
        "sets=set([8,3,4,2,14,50,25])\n",
        "print(MAX(sets))"
      ],
      "metadata": {
        "colab": {
          "base_uri": "https://localhost:8080/"
        },
        "id": "SPP1WWcZfNTQ",
        "outputId": "33b453d1-b8f9-457b-ac7a-9af4fa375874"
      },
      "execution_count": null,
      "outputs": [
        {
          "output_type": "stream",
          "name": "stdout",
          "text": [
            "50\n"
          ]
        }
      ]
    },
    {
      "cell_type": "code",
      "source": [
        "def MIN(sets):\n",
        "  return (min(sets))\n",
        "sets=set([8,3,4,2,14,50,25])\n",
        "print(MIN(sets))"
      ],
      "metadata": {
        "colab": {
          "base_uri": "https://localhost:8080/"
        },
        "id": "SceC6oNvfhI1",
        "outputId": "d7ef825a-3fa4-426a-fb74-bbf96915581a"
      },
      "execution_count": null,
      "outputs": [
        {
          "output_type": "stream",
          "name": "stdout",
          "text": [
            "2\n"
          ]
        }
      ]
    },
    {
      "cell_type": "code",
      "source": [
        "# Removal of duplicate"
      ],
      "metadata": {
        "id": "P-Yyaqo3foLH"
      },
      "execution_count": null,
      "outputs": []
    },
    {
      "cell_type": "code",
      "source": [
        "# Python code to remove duplicate elements\n",
        "def Remove(duplicate):\n",
        "\tfinal_list = []\n",
        "\tfor num in duplicate:\n",
        "\t\tif num not in final_list:\n",
        "\t\t\tfinal_list.append(num)\n",
        "\treturn final_list\n",
        "\n",
        "# Driver Code\n",
        "duplicate = [2, 4, 10, 20, 5, 2, 20, 4]\n",
        "print(Remove(duplicate))\n"
      ],
      "metadata": {
        "colab": {
          "base_uri": "https://localhost:8080/"
        },
        "id": "DNxmR4tOf8gt",
        "outputId": "5c5622cc-bf18-45f3-8b25-1e0d952f8da6"
      },
      "execution_count": null,
      "outputs": [
        {
          "output_type": "stream",
          "name": "stdout",
          "text": [
            "[2, 4, 10, 20, 5]\n"
          ]
        }
      ]
    },
    {
      "cell_type": "code",
      "source": [
        "# using set method because SET only contains unique value"
      ],
      "metadata": {
        "id": "XjuLTFGkgj-k"
      },
      "execution_count": null,
      "outputs": []
    },
    {
      "cell_type": "code",
      "source": [
        "duplicate = [2, 4, 10, 20, 5, 2, 20, 4]\n",
        "print((set(duplicate)))\n"
      ],
      "metadata": {
        "colab": {
          "base_uri": "https://localhost:8080/"
        },
        "id": "ltsfp5sFgo3h",
        "outputId": "8b9d22c1-92c9-4362-ca2f-881816058e6f"
      },
      "execution_count": null,
      "outputs": [
        {
          "output_type": "stream",
          "name": "stdout",
          "text": [
            "{2, 4, 5, 10, 20}\n"
          ]
        }
      ]
    },
    {
      "cell_type": "code",
      "source": [
        "# using counter Function"
      ],
      "metadata": {
        "id": "H_ZzVJiIgy_A"
      },
      "execution_count": null,
      "outputs": []
    },
    {
      "cell_type": "code",
      "source": [
        "# Python code to remove duplicate elements\n",
        "from collections import Counter\n",
        "# Driver Code\n",
        "duplicate = [2, 4, 10, 20, 5, 2, 20, 4]\n",
        "unique = Counter(duplicate)\n",
        "print((unique.keys()))\n"
      ],
      "metadata": {
        "colab": {
          "base_uri": "https://localhost:8080/"
        },
        "id": "A7SrfQEvg_Vq",
        "outputId": "0bb2e447-0b79-482d-da6f-435ab36312dd"
      },
      "execution_count": null,
      "outputs": [
        {
          "output_type": "stream",
          "name": "stdout",
          "text": [
            "dict_keys([2, 4, 10, 20, 5])\n"
          ]
        }
      ]
    },
    {
      "cell_type": "code",
      "source": [
        "# Array Splitting"
      ],
      "metadata": {
        "id": "Wst11WN2hGhg"
      },
      "execution_count": null,
      "outputs": []
    },
    {
      "cell_type": "markdown",
      "source": [
        "Splitting is reverse operation of Joining. Joining merges multiple arrays into one and Splitting breaks one array into multiple."
      ],
      "metadata": {
        "id": "lL9NKHDyBy_P"
      }
    },
    {
      "cell_type": "code",
      "source": [
        "import numpy as np\n",
        "\n",
        "arr = np.array([1, 2, 3, 4, 5, 6])\n",
        "\n",
        "newarr = np.array_split(arr, 3)\n",
        "\n",
        "print(newarr)"
      ],
      "metadata": {
        "id": "5vlY-gqnhaOO",
        "colab": {
          "base_uri": "https://localhost:8080/"
        },
        "outputId": "8a5d673c-2167-4746-f868-52d0089fab01"
      },
      "execution_count": null,
      "outputs": [
        {
          "output_type": "stream",
          "name": "stdout",
          "text": [
            "[array([1, 2]), array([3, 4]), array([5, 6])]\n"
          ]
        }
      ]
    },
    {
      "cell_type": "code",
      "source": [
        "# Split the array in 4 parts:\n",
        "import numpy as np\n",
        "\n",
        "arr = np.array([1, 2, 3, 4, 5, 6])\n",
        "\n",
        "newarr = np.array_split(arr, 4)\n",
        "\n",
        "print(newarr)\n"
      ],
      "metadata": {
        "colab": {
          "base_uri": "https://localhost:8080/"
        },
        "id": "H1-LTs87CT8L",
        "outputId": "8ea1eb06-7d06-4704-8734-8f87b757ce42"
      },
      "execution_count": null,
      "outputs": [
        {
          "output_type": "stream",
          "name": "stdout",
          "text": [
            "[array([1, 2]), array([3, 4]), array([5]), array([6])]\n"
          ]
        }
      ]
    },
    {
      "cell_type": "code",
      "source": [
        "#Split the 2-D array into three 2-D arrays.\n",
        "import numpy as np\n",
        "\n",
        "arr = np.array([[1, 2], [3, 4], [5, 6], [7, 8], [9, 10], [11, 12]])\n",
        "\n",
        "newarr = np.array_split(arr, 3)\n",
        "\n",
        "print(newarr)"
      ],
      "metadata": {
        "colab": {
          "base_uri": "https://localhost:8080/"
        },
        "id": "HlPPkkAqEF1g",
        "outputId": "f5694aad-0c9b-4b85-a5cb-ebe25c46841f"
      },
      "execution_count": null,
      "outputs": [
        {
          "output_type": "stream",
          "name": "stdout",
          "text": [
            "[array([[1, 2],\n",
            "       [3, 4]]), array([[5, 6],\n",
            "       [7, 8]]), array([[ 9, 10],\n",
            "       [11, 12]])]\n"
          ]
        }
      ]
    },
    {
      "cell_type": "code",
      "source": [
        "# Python program to split array and move first\n",
        "# part to end.\n",
        "\n",
        "\n",
        "def splitArr(arr, n, k):\n",
        "\tfor i in range(0, k):\n",
        "\t\tx = arr[0]\n",
        "\t\tfor j in range(0, n-1):\n",
        "\t\t\tarr[j] = arr[j + 1]\n",
        "\n",
        "\t\tarr[n-1] = x\n",
        "\n",
        "\n",
        "# main\n",
        "arr = [12, 10, 5, 6, 52, 36]\n",
        "n = len(arr)\n",
        "position = 2\n",
        "\n",
        "splitArr(arr, n, position)\n",
        "\n",
        "for i in range(0, n):\n",
        "\tprint(arr[i], end=' ')\n"
      ],
      "metadata": {
        "colab": {
          "base_uri": "https://localhost:8080/"
        },
        "id": "gkpNUx--EMEg",
        "outputId": "2144adf1-86a7-4820-e4c9-a2382e0bda93"
      },
      "execution_count": null,
      "outputs": [
        {
          "output_type": "stream",
          "name": "stdout",
          "text": [
            "5 6 52 36 12 10 "
          ]
        }
      ]
    },
    {
      "cell_type": "markdown",
      "source": [
        "Time complexity: O(nk), where n is the length of the array and k is the number of times the first part of the array needs to be moved to the end.\n",
        "Auxiliary space: O(1), the program only uses a constant amount of additional memory."
      ],
      "metadata": {
        "id": "7W2ZdZvgEl0v"
      }
    },
    {
      "cell_type": "code",
      "source": [
        "# Python program to split array and move first\n",
        "# part to end.\n",
        "\n",
        "\n",
        "def splitArr(a, n, k):\n",
        "\tb = a[:k]\n",
        "\treturn (a[k::]+b[::])\n",
        "\n",
        "\n",
        "# main\n",
        "arr = [12, 10, 5, 6, 52, 36]\n",
        "n = len(arr)\n",
        "position = 2\n",
        "arr = splitArr(arr, n, position)\n",
        "for i in range(0, n):\n",
        "\tprint(arr[i], end=' ')\n"
      ],
      "metadata": {
        "colab": {
          "base_uri": "https://localhost:8080/"
        },
        "id": "wHSdrUTSEmdd",
        "outputId": "c400af6f-4448-4189-8141-0aab96c13619"
      },
      "execution_count": null,
      "outputs": [
        {
          "output_type": "stream",
          "name": "stdout",
          "text": [
            "5 6 52 36 12 10 "
          ]
        }
      ]
    },
    {
      "cell_type": "markdown",
      "source": [
        "Time Complexity: O(n), where n is the length of the input array ‘arr’.\n",
        "Auxiliary Space: O(k), where k is the value of ‘position’ input parameter."
      ],
      "metadata": {
        "id": "6puahQBjEv0o"
      }
    },
    {
      "cell_type": "code",
      "source": [
        "# Python program to split array and move first\n",
        "# part to end.\n",
        "\n",
        "arr = [12, 10, 5, 6, 52, 36]\n",
        "n = len(arr)\n",
        "position = 2\n",
        "x = arr[:position]\n",
        "y = arr[position:]\n",
        "y.extend(x)\n",
        "for i in y:\n",
        "\tprint(i, end=\" \")\n"
      ],
      "metadata": {
        "colab": {
          "base_uri": "https://localhost:8080/"
        },
        "id": "sV8JC46mExEj",
        "outputId": "f4d71d17-da89-4275-ef78-2f8609c35c53"
      },
      "execution_count": null,
      "outputs": [
        {
          "output_type": "stream",
          "name": "stdout",
          "text": [
            "5 6 52 36 12 10 "
          ]
        }
      ]
    },
    {
      "cell_type": "markdown",
      "source": [
        "Time complexity: O(n)\n",
        "Auxiliary space: O(n)"
      ],
      "metadata": {
        "id": "tYNdBnn8E2WQ"
      }
    },
    {
      "cell_type": "code",
      "source": [
        "# Array Partitioning\n",
        "def partition(arr, l, h):\n",
        "    lm = []\n",
        "    mm = []\n",
        "    hm = []\n",
        "    for i in arr:\n",
        "        if i < l:\n",
        "            lm.append(i)\n",
        "        elif i > h:\n",
        "            hm.append(i)\n",
        "        else:\n",
        "            mm.append(i)\n",
        "    return lm + mm + hm\n",
        "\n",
        "\n",
        "array = [1, 17, 22, 16, 13, 5, 43, 18, 3, 10]\n",
        "lowVal = 14\n",
        "highVal = 20\n",
        "print(\"After Partitioning :\", partition(array, lowVal, highVal))"
      ],
      "metadata": {
        "colab": {
          "base_uri": "https://localhost:8080/"
        },
        "id": "OR6CUWM5E3Ne",
        "outputId": "508cc646-649a-49c0-f7f2-c68f8f8860a8"
      },
      "execution_count": null,
      "outputs": [
        {
          "output_type": "stream",
          "name": "stdout",
          "text": [
            "After Partitioning : [1, 13, 5, 3, 10, 17, 16, 18, 22, 43]\n"
          ]
        }
      ]
    }
  ]
}