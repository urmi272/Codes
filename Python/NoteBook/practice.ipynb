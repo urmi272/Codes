{
 "cells": [
  {
   "cell_type": "code",
   "execution_count": 6,
   "metadata": {},
   "outputs": [
    {
     "name": "stdout",
     "output_type": "stream",
     "text": [
      "2 4 6 8 10 12 14 16 18 20 22 24 26 28 30 32 34 36 38 40 42 44 46 48 50 52 54 56 58 60 62 64 66 68 70 72 74 76 78 80 82 84 86 88 90 92 94 96 98 100 "
     ]
    }
   ],
   "source": [
    "for i in range(1,101):\n",
    "    if i%2 == 0:\n",
    "        print(i, end=\" \")"
   ]
  },
  {
   "cell_type": "code",
   "execution_count": 22,
   "metadata": {},
   "outputs": [
    {
     "name": "stdout",
     "output_type": "stream",
     "text": [
      "1 3 5 7 9 11 13 15 17 19 21 23 25 27 29 31 33 35 37 39 41 43 45 47 49 51 53 55 57 59 61 63 65 67 69 71 73 75 77 79 81 83 85 87 89 91 93 95 97 99 "
     ]
    }
   ],
   "source": [
    "for value in range(1, 101, 2):\n",
    "    print(value, end =\" \")"
   ]
  },
  {
   "cell_type": "code",
   "execution_count": 7,
   "metadata": {},
   "outputs": [
    {
     "name": "stdout",
     "output_type": "stream",
     "text": [
      "1 3 5 7 9 11 13 15 17 19 21 23 25 27 29 31 33 35 37 39 41 43 45 47 49 51 53 55 57 59 61 63 65 67 69 71 73 75 77 79 81 83 85 87 89 91 93 95 97 99 "
     ]
    }
   ],
   "source": [
    "for i in range(1,101):\n",
    "    if i%2 != 0:\n",
    "        print(i, end=\" \")"
   ]
  },
  {
   "cell_type": "code",
   "execution_count": 12,
   "metadata": {},
   "outputs": [
    {
     "name": "stdout",
     "output_type": "stream",
     "text": [
      "2 4 6 8 10 12 14 16 18 20 22 24 26 28 30 32 34 36 38 40 42 44 46 48 50 52 54 56 58 60 62 64 66 68 70 72 74 76 78 80 82 84 86 88 90 92 94 96 98 100 "
     ]
    }
   ],
   "source": [
    "i = 2\n",
    "while (i<= 100):\n",
    "    print(i, end= \" \")\n",
    "    i += 2"
   ]
  },
  {
   "cell_type": "code",
   "execution_count": 17,
   "metadata": {},
   "outputs": [
    {
     "name": "stdout",
     "output_type": "stream",
     "text": [
      "1, 3, 5, 7, 9, 11, 13, 15, 17, 19, 21, 23, 25, 27, 29, 31, 33, 35, 37, 39, 41, 43, 45, 47, 49, 51, 53, 55, 57, 59, 61, 63, 65, 67, 69, 71, 73, 75, 77, 79, 81, 83, 85, 87, 89, 91, 93, 95, 97, 99, "
     ]
    }
   ],
   "source": [
    "i = 1\n",
    "while (i<= 100):\n",
    "    print(i, end= \", \")\n",
    "    i += 2"
   ]
  },
  {
   "cell_type": "code",
   "execution_count": 16,
   "metadata": {},
   "outputs": [
    {
     "name": "stdout",
     "output_type": "stream",
     "text": [
      "2, 3, 5, 7, 11, 13, 17, 19, 23, 29, 31, 37, 41, 43, 47, 53, 59, 61, 67, 71, 73, 79, 83, 89, 97, "
     ]
    }
   ],
   "source": [
    "for i in range(2, 101):\n",
    "    for j in range(2, i):\n",
    "        if i % j == 0:\n",
    "            break\n",
    "    else:\n",
    "        print(i, end=\", \")"
   ]
  },
  {
   "cell_type": "code",
   "execution_count": 18,
   "metadata": {},
   "outputs": [
    {
     "name": "stdout",
     "output_type": "stream",
     "text": [
      "2, 3, 5, 7, 11, 13, 17, 19, 23, 29, 31, 37, 41, 43, 47, 53, 59, 61, 67, 71, 73, 79, 83, 89, 97, "
     ]
    }
   ],
   "source": [
    "i = 2\n",
    "while i <= 100:\n",
    "    j = 2\n",
    "    while j < i:\n",
    "        if i % j == 0:\n",
    "            break\n",
    "        j += 1\n",
    "    if i == j:\n",
    "        print(i, end=\", \")\n",
    "    i += 1"
   ]
  },
  {
   "cell_type": "code",
   "execution_count": 2,
   "metadata": {},
   "outputs": [
    {
     "name": "stdout",
     "output_type": "stream",
     "text": [
      "2\n",
      "3\n",
      "5\n",
      "7\n",
      "11\n",
      "13\n",
      "17\n",
      "19\n",
      "23\n",
      "29\n"
     ]
    }
   ],
   "source": [
    "def is_prime(n, d=2):\n",
    "    if n < 2:\n",
    "        return False\n",
    "    if d * d > n:\n",
    "        return True\n",
    "    if n % d == 0:\n",
    "        return False\n",
    "    return is_prime(n, d + 1)\n",
    "\n",
    "#prime_numbers = [num for num in range(2, 101) if is_prime(num)]\n",
    "#print(\"Prime numbers from 1 to 100:\", prime_numbers)\n",
    "\n",
    "def print_first_n_primes(N):\n",
    "    count = 0\n",
    "    num = 2\n",
    "    while count < N:\n",
    "        if is_prime(num):\n",
    "            print(num)\n",
    "            count += 1\n",
    "        num += 1\n",
    "\n",
    "# Print the first 10 prime numbers\n",
    "N = 10\n",
    "print_first_n_primes(N)\n"
   ]
  },
  {
   "cell_type": "code",
   "execution_count": 25,
   "metadata": {},
   "outputs": [
    {
     "name": "stdout",
     "output_type": "stream",
     "text": [
      "Yes, it's a palindrome!\n"
     ]
    }
   ],
   "source": [
    "def is_palindrome(s):\n",
    "    return s == s[::-1]\n",
    "\n",
    "string = input(\"Enter a string\")\n",
    "if is_palindrome(string):\n",
    "    print(\"Yes, it's a palindrome!\")\n",
    "else:\n",
    "    print(\"No, it's not a palindrome.\")\n"
   ]
  },
  {
   "cell_type": "markdown",
   "metadata": {},
   "source": [
    "Python programming does not have a character data type, a single character is simply a string with a length of 1  \n"
   ]
  },
  {
   "cell_type": "markdown",
   "metadata": {},
   "source": [
    "indexing: ![alt text](strings.jpg)"
   ]
  },
  {
   "cell_type": "code",
   "execution_count": 8,
   "metadata": {},
   "outputs": [
    {
     "name": "stdout",
     "output_type": "stream",
     "text": [
      "<class 'str'>\n",
      "hell is empty, and all the Devils are here!\n",
      "                                         - Aaron Warner\n",
      "Shatter me series\n",
      "(Tareen mafi)\n",
      ",\n",
      "hell is\n",
      "!ereh era sliveD eht lla dna ,ytpme si lleh\n",
      "empty, \n",
      "and all the Devils are here!\n",
      "hell is empty, and all the Devils are here!\n",
      "h\n",
      "hell is empty, and \n",
      "all the Devils are here!\n",
      "e  p,na eela r\n"
     ]
    }
   ],
   "source": [
    "str = 'hell is empty, and all the Devils are here!'\n",
    "str2 = '''                                         - Aaron Warner\n",
    "Shatter me series\n",
    "(Tareen mafi)'''\n",
    "\n",
    "print(type(str))\n",
    "print(str)\n",
    "print(str2)\n",
    "\n",
    "print(str[13])\n",
    "print(str[:7]) #end at 7\n",
    "print(str[::-1]) #reverse\n",
    "print(str[8:15]) # slicing characters\n",
    "print(str[15:]) #all ele from 15 index\n",
    "print(str[:]) #print all ele\n",
    "print(str[-5]) #print ele on that index\n",
    "print(str[:-24]) #all ele till -24 index\n",
    "print(str[-24:]) #all ele from -24 index\n",
    "print(str[1:len(str):3]) #[start:stop:]"
   ]
  },
  {
   "cell_type": "markdown",
   "metadata": {},
   "source": [
    "buildin func"
   ]
  },
  {
   "cell_type": "code",
   "execution_count": 22,
   "metadata": {},
   "outputs": [
    {
     "name": "stdout",
     "output_type": "stream",
     "text": [
      "22\n",
      "I am made of memories.\n",
      "****I am made of memories.****\n",
      "['I', 'am', 'made', 'of', 'memories.']\n",
      "I'm made of memories.\n",
      "-1\n",
      "10\n",
      "5\n",
      ".seiromem fo edam ma I\n"
     ]
    }
   ],
   "source": [
    "str = \"I am made of memories.\"\n",
    "\n",
    "print(len(str))\n",
    "\n",
    "print(str.capitalize())\n",
    "\n",
    "print(str.center(30,'*'))\n",
    "\n",
    "print(str.split())\n",
    "\n",
    "print(str.replace(\"I am\", \"I'm\"))\n",
    "\n",
    "print(str.rfind(\"empty\", 0, len(str)))#-1 when not found\n",
    "print(str.rfind(\"of\", 0, len(str))) \n",
    "print(str.rindex(\"made\", 0, len(str)))#it raises an exception when string is not found\n",
    "\n",
    "str = \"\".join(reversed(str))\n",
    "print(str)\n"
   ]
  },
  {
   "cell_type": "markdown",
   "metadata": {},
   "source": [
    "As python strings are immutable, they don't support item updation directly"
   ]
  },
  {
   "cell_type": "code",
   "execution_count": 33,
   "metadata": {},
   "outputs": [
    {
     "name": "stdout",
     "output_type": "stream",
     "text": [
      "It is not what you look at that matters, it's what you see.\n",
      "It is not what you look at that matters, it's what you see.\n",
      "It matters, it's what you see.\n",
      "WOW\n"
     ]
    }
   ],
   "source": [
    "x = \"It's not what you look at that matters, it's what you see.\"\n",
    "list1 = list(x)\n",
    "list1[2]= ' i'\n",
    "x2=''.join(list1)\n",
    "print(x2)\n",
    "\n",
    "#or\n",
    "x3 = x[0:2] + ' i' + x[3:]\n",
    "print(x3)\n",
    "\n",
    "#del str[3] #Python strings are immutable, that means we cannot delete a character from it.\n",
    "x = x[0:2] + x[30:]\n",
    "print(x)\n",
    "\n",
    "\n",
    "x = \"WOW\" #updating the entire string \n",
    "print(x)\n",
    "\n"
   ]
  },
  {
   "cell_type": "code",
   "execution_count": 34,
   "metadata": {},
   "outputs": [
    {
     "name": "stdout",
     "output_type": "stream",
     "text": [
      "Print String in default order: \n",
      "live love Laugh\n",
      "\n",
      "Print String in Positional order: \n",
      "love live Laugh\n",
      "\n",
      "Print String in order of Keywords: \n",
      "Good For you\n"
     ]
    }
   ],
   "source": [
    "String1 = \"{} {} {}\".format('live', 'love', 'Laugh')\n",
    "print(\"Print String in default order: \")\n",
    "print(String1)\n",
    "\n",
    "\n",
    "String1 = \"{1} {0} {2}\".format('live', 'love', 'Laugh')\n",
    "print(\"\\nPrint String in Positional order: \")\n",
    "print(String1)\n",
    "\n",
    "String1 = \"{g} {f} {y}\".format(f='For', y='you', g='Good')\n",
    "print(\"\\nPrint String in order of Keywords: \")\n",
    "print(String1)"
   ]
  },
  {
   "cell_type": "code",
   "execution_count": 35,
   "metadata": {},
   "outputs": [
    {
     "name": "stdout",
     "output_type": "stream",
     "text": [
      "10000\n",
      "1.656458e+02\n",
      "0.17\n"
     ]
    }
   ],
   "source": [
    "String1 = \"{0:b}\".format(16) #Binary representation of 16\n",
    "print(String1)\n",
    "\n",
    "String1 = \"{0:e}\".format(165.6458)#Exponent representation of 165.6458\n",
    "print(String1)\n",
    "\n",
    "String1 = \"{0:.2f}\".format(1/6) #one-sixth\n",
    "print(String1)"
   ]
  },
  {
   "cell_type": "code",
   "execution_count": 42,
   "metadata": {},
   "outputs": [
    {
     "name": "stdout",
     "output_type": "stream",
     "text": [
      "The value of Integer1 is 5912.55\n",
      "The value of Integer1 is 5912.548622\n"
     ]
    }
   ],
   "source": [
    "Int = 5912.54862154\n",
    "print('The value of Integer1 is %3.2f'% Int)\n",
    "print('The value of Integer1 is %3.6f'% Int)"
   ]
  },
  {
   "cell_type": "code",
   "execution_count": 19,
   "metadata": {},
   "outputs": [
    {
     "name": "stdout",
     "output_type": "stream",
     "text": [
      "['x', 3]\n",
      "[3]\n",
      "[3, 13, 7, 8, 20, 3.4]\n",
      "[3, 3.4, 7, 8, 13, 20]\n",
      "[3, 3.4, 7, 8, 13]\n",
      "[13, 8, 7, 3.4, 3]\n"
     ]
    }
   ],
   "source": [
    "list = []\n",
    "list.insert(1, 'x')\n",
    "list.insert(2, 3)\n",
    "\n",
    "print(list)\n",
    "\n",
    "list.remove('x')\n",
    "print(list)\n",
    "\n",
    "list.append(13)\n",
    "#list.append({5,6})\n",
    "list.append(7)\n",
    "list.append(8)\n",
    "list.append(20)\n",
    "list.append(3.4)\n",
    "print(list)\n",
    "\n",
    "list.sort()\n",
    "print(list)\n",
    "list.pop()\n",
    "print(list)\n",
    "list.reverse()\n",
    "print(list)"
   ]
  }
 ],
 "metadata": {
  "kernelspec": {
   "display_name": "Python 3",
   "language": "python",
   "name": "python3"
  },
  "language_info": {
   "codemirror_mode": {
    "name": "ipython",
    "version": 3
   },
   "file_extension": ".py",
   "mimetype": "text/x-python",
   "name": "python",
   "nbconvert_exporter": "python",
   "pygments_lexer": "ipython3",
   "version": "3.12.4"
  }
 },
 "nbformat": 4,
 "nbformat_minor": 2
}
