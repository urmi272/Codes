{
 "cells": [
  {
   "cell_type": "markdown",
   "metadata": {},
   "source": [
    "If Statement "
   ]
  },
  {
   "cell_type": "code",
   "execution_count": 1,
   "metadata": {},
   "outputs": [
    {
     "name": "stdout",
     "output_type": "stream",
     "text": [
      "11\n",
      "-10\n"
     ]
    }
   ],
   "source": [
    "x=10\n",
    "if(x>0): #block will be executed is the condition satisfied\n",
    "    x = x+1\n",
    "print(x)\n",
    "\n",
    "y=-10\n",
    "if(y>0):\n",
    "    y = x+1\n",
    "print(y)"
   ]
  },
  {
   "cell_type": "markdown",
   "metadata": {},
   "source": [
    "If-Else statement"
   ]
  },
  {
   "cell_type": "code",
   "execution_count": 6,
   "metadata": {},
   "outputs": [
    {
     "name": "stdout",
     "output_type": "stream",
     "text": [
      "You have to wait for another 2 years to cast your vote!\n"
     ]
    }
   ],
   "source": [
    "age = int(input(\"Enter your age:\"))\n",
    "\n",
    "if(age>=18):\n",
    "    print(\"you are eligible to vote\")\n",
    "else:\n",
    "    yrs = 18-age\n",
    "    print(\"You have to wait for another \"+ str(yrs) +\" years to cast your vote!\")"
   ]
  },
  {
   "cell_type": "markdown",
   "metadata": {},
   "source": [
    "nested if statement"
   ]
  },
  {
   "cell_type": "code",
   "execution_count": 10,
   "metadata": {},
   "outputs": [
    {
     "name": "stdout",
     "output_type": "stream",
     "text": [
      "you are an adult\n"
     ]
    }
   ],
   "source": [
    "age = int(input(\"Enter your age:\"))\n",
    "\n",
    "if(0>=age):\n",
    "    print(\"you are not born\")\n",
    "elif(0<age<13):\n",
    "    print(\"you are a child\")\n",
    "elif(13<age<19):\n",
    "    print(\"you are a teenager\")\n",
    "elif(age>=20):\n",
    "    print(\"you are an adult\")\n",
    "\n"
   ]
  },
  {
   "cell_type": "markdown",
   "metadata": {},
   "source": [
    "if-elif-else statement "
   ]
  },
  {
   "cell_type": "code",
   "execution_count": 1,
   "metadata": {},
   "outputs": [],
   "source": [
    "num = int(input(\"Enter any number:\"))\n",
    "if(num==0):\n",
    "    print(\"the value is zero\")\n",
    "elif(num>0):\n",
    "    print(\"the value is positive\")\n",
    "else:\n",
    "    print(\"the value is negative\")\n",
    "\n"
   ]
  }
 ],
 "metadata": {
  "kernelspec": {
   "display_name": "Python 3",
   "language": "python",
   "name": "python3"
  },
  "language_info": {
   "codemirror_mode": {
    "name": "ipython",
    "version": 3
   },
   "file_extension": ".py",
   "mimetype": "text/x-python",
   "name": "python",
   "nbconvert_exporter": "python",
   "pygments_lexer": "ipython3",
   "version": "3.12.4"
  }
 },
 "nbformat": 4,
 "nbformat_minor": 2
}
