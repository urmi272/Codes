{
 "cells": [
  {
   "cell_type": "markdown",
   "metadata": {},
   "source": [
    "FOR LOOP\n",
    "\n",
    "for var in iterable:\n",
    "\n",
    "    # statements"
   ]
  },
  {
   "cell_type": "code",
   "execution_count": 1,
   "metadata": {},
   "outputs": [
    {
     "name": "stdout",
     "output_type": "stream",
     "text": [
      "U\n",
      "r\n",
      "m\n",
      "i\n",
      "urmi\n",
      "barman\n"
     ]
    }
   ],
   "source": [
    "# Iterating over a String and list\n",
    "s = \"Urmi\"\n",
    "for i in s:\n",
    "    print(i)\n",
    "\n",
    "list = ['urmi', 'barman']\n",
    "for i in list:\n",
    "    print(i)"
   ]
  },
  {
   "cell_type": "markdown",
   "metadata": {},
   "source": [
    "Range(start, end, step) function\n",
    "\n",
    "*end ends with one less than the number end*\n",
    "\n",
    "*range increments with 1 but u can specify it using step*"
   ]
  },
  {
   "cell_type": "code",
   "execution_count": 2,
   "metadata": {},
   "outputs": [
    {
     "name": "stdout",
     "output_type": "stream",
     "text": [
      "0\n",
      "2\n",
      "4\n",
      "6\n",
      "8\n"
     ]
    }
   ],
   "source": [
    "for i in range(0,10, 2):\n",
    "    print(i)"
   ]
  },
  {
   "cell_type": "code",
   "execution_count": 3,
   "metadata": {},
   "outputs": [
    {
     "name": "stdout",
     "output_type": "stream",
     "text": [
      "[0, 1, 2, 3, 4, 5, 6, 7, 8, 9, 10]\n"
     ]
    }
   ],
   "source": [
    "Numbers =[x for x in range(11)]\n",
    "print(Numbers)"
   ]
  },
  {
   "cell_type": "markdown",
   "metadata": {},
   "source": [
    "Nested for loop\n",
    "\n",
    "*The inner loop is executed for each value of i in the outer loop.*"
   ]
  },
  {
   "cell_type": "code",
   "execution_count": 4,
   "metadata": {},
   "outputs": [
    {
     "name": "stdout",
     "output_type": "stream",
     "text": [
      "1 1\n",
      "1 2\n",
      "1 3\n",
      "2 1\n",
      "2 2\n",
      "2 3\n",
      "3 1\n",
      "3 2\n",
      "3 3\n"
     ]
    }
   ],
   "source": [
    "for i in range(1, 4):\n",
    "    for j in range(1, 4):\n",
    "        print(i, j)"
   ]
  },
  {
   "cell_type": "markdown",
   "metadata": {},
   "source": [
    " For Loop with Zip()"
   ]
  },
  {
   "cell_type": "code",
   "execution_count": 6,
   "metadata": {},
   "outputs": [
    {
     "name": "stdout",
     "output_type": "stream",
     "text": [
      "apple is red\n",
      "banana is yellow\n",
      "cucumber is green\n"
     ]
    }
   ],
   "source": [
    "fruits = [\"apple\", \"banana\", \"cucumber\"]\n",
    "colors = [\"red\", \"yellow\", \"green\"]\n",
    "for fruit, color in zip(fruits, colors):\n",
    "    print(fruit, \"is\", color)"
   ]
  },
  {
   "cell_type": "markdown",
   "metadata": {},
   "source": [
    "While loop"
   ]
  },
  {
   "cell_type": "code",
   "execution_count": 5,
   "metadata": {},
   "outputs": [
    {
     "name": "stdout",
     "output_type": "stream",
     "text": [
      "0 hello world\n",
      "1 hello world\n",
      "2 hello world\n",
      "3 hello world\n",
      "4 hello world\n",
      "5 hello world\n",
      "this is out of the while loop \n"
     ]
    }
   ],
   "source": [
    "i=0\n",
    "while(i<=5): #loop will run till statement is true\n",
    "    print(i,end=\" \") #if you want them in same line use ,end=\" \"\n",
    "    print(\"hello world\")\n",
    "    i = i+1\n",
    "print(\"this is out of the while loop \")"
   ]
  },
  {
   "cell_type": "code",
   "execution_count": null,
   "metadata": {},
   "outputs": [],
   "source": [
    "age = 28\n",
    "# the test condition is always True \n",
    "while age > 19: \n",
    "    print('Infinite Loop')"
   ]
  },
  {
   "cell_type": "code",
   "execution_count": 15,
   "metadata": {},
   "outputs": [
    {
     "name": "stdout",
     "output_type": "stream",
     "text": [
      "4\n",
      "7\n",
      "8\n",
      "9\n",
      "-1\n"
     ]
    }
   ],
   "source": [
    "a = int(input('Enter a number (-1 to quit): ')) \n",
    "#user can input many times until he enters -1 to stop the loop\n",
    "while a != -1: \n",
    "    a = int(input('Enter a number (-1 to quit): '))\n",
    "    print(a)"
   ]
  },
  {
   "cell_type": "markdown",
   "metadata": {},
   "source": [
    "Continue in Python For Loop\n",
    "\n",
    "*forces to execute the next iteration of the loop while skipping the rest of the code inside the loop for the current iteration only*"
   ]
  },
  {
   "cell_type": "code",
   "execution_count": 7,
   "metadata": {},
   "outputs": [
    {
     "name": "stdout",
     "output_type": "stream",
     "text": [
      "Current Letter : I\n",
      "Current Letter : m\n",
      "Current Letter : U\n",
      "Current Letter : r\n",
      "Current Letter : m\n",
      "Current Letter : i\n",
      "Current Letter : B\n",
      "Current Letter : r\n",
      "Current Letter : m\n",
      "Current Letter : n\n"
     ]
    }
   ],
   "source": [
    "for letter in 'IamUrmiBarman':\n",
    "\n",
    "    if letter == 'a' or letter == 'B':\n",
    "        continue\n",
    "    print('Current Letter :', letter)"
   ]
  },
  {
   "cell_type": "code",
   "execution_count": 6,
   "metadata": {},
   "outputs": [
    {
     "name": "stdout",
     "output_type": "stream",
     "text": [
      "Current Letter : I\n",
      "Current Letter : m\n",
      "Current Letter : U\n",
      "Current Letter : r\n",
      "Current Letter : m\n",
      "Current Letter : i\n",
      "Current Letter : B\n",
      "Current Letter : r\n",
      "Current Letter : m\n",
      "Current Letter : n\n"
     ]
    }
   ],
   "source": [
    "i=0\n",
    "a='IamUrmiBarman'\n",
    "\n",
    "while i < len(a): \n",
    "    if a[i] == 'a' or a[i] == 'B': \n",
    "        i += 1\n",
    "        continue   \n",
    "    print('Current Letter :', a[i]) \n",
    "    i += 1"
   ]
  },
  {
   "cell_type": "markdown",
   "metadata": {},
   "source": [
    "Break in Python For Loop\n",
    "\n",
    "*used to bring the control out of the loop when some external condition is triggered.*"
   ]
  },
  {
   "cell_type": "code",
   "execution_count": 7,
   "metadata": {},
   "outputs": [
    {
     "name": "stdout",
     "output_type": "stream",
     "text": [
      "Current Letter : a\n"
     ]
    }
   ],
   "source": [
    "for letter in 'IamUrmiBarman':\n",
    "    # break the loop as soon it meets the condition\n",
    "    if letter == 'a' or letter == 'B':\n",
    "        break\n",
    "\n",
    "print('Current Letter :', letter)"
   ]
  },
  {
   "cell_type": "code",
   "execution_count": 8,
   "metadata": {},
   "outputs": [
    {
     "name": "stdout",
     "output_type": "stream",
     "text": [
      "Current Letter : I\n",
      "Current Letter : '\n"
     ]
    }
   ],
   "source": [
    "i = 0\n",
    "x = 'I\\'mUrmiBarman'\n",
    "  \n",
    "while i < len(x): \n",
    "    if x[i] == 'm' or a[i] == 'B': \n",
    "        i += 1\n",
    "        break\n",
    "          \n",
    "    print('Current Letter :', x[i]) \n",
    "    i += 1"
   ]
  },
  {
   "cell_type": "markdown",
   "metadata": {},
   "source": [
    "pass statement:\n",
    "\n",
    "*the pass is used when the user doesn’t want any code to execute*"
   ]
  },
  {
   "cell_type": "code",
   "execution_count": 11,
   "metadata": {},
   "outputs": [
    {
     "name": "stdout",
     "output_type": "stream",
     "text": [
      "n\n"
     ]
    }
   ],
   "source": [
    "for i in 'IamUrmiBarman':\n",
    "    pass\n",
    "print(i)"
   ]
  },
  {
   "cell_type": "code",
   "execution_count": 10,
   "metadata": {},
   "outputs": [
    {
     "name": "stdout",
     "output_type": "stream",
     "text": [
      "i: 13\n"
     ]
    }
   ],
   "source": [
    "i = 0\n",
    "x = 'I\\'mUrmiBarman'\n",
    "  \n",
    "while i < len(x):\n",
    "    i += 1\n",
    "    pass\n",
    "print('i:', i)"
   ]
  },
  {
   "cell_type": "markdown",
   "metadata": {},
   "source": [
    "List Comprehension"
   ]
  },
  {
   "cell_type": "code",
   "execution_count": null,
   "metadata": {},
   "outputs": [
    {
     "name": "stdout",
     "output_type": "stream",
     "text": [
      "[1, 4, 9, 16, 25]\n"
     ]
    }
   ],
   "source": [
    "numbers = [1, 2, 3, 4, 5] \n",
    "squared = [x ** 2 for x in numbers] \n",
    "print(squared)"
   ]
  }
 ],
 "metadata": {
  "kernelspec": {
   "display_name": "Python 3",
   "language": "python",
   "name": "python3"
  },
  "language_info": {
   "codemirror_mode": {
    "name": "ipython",
    "version": 3
   },
   "file_extension": ".py",
   "mimetype": "text/x-python",
   "name": "python",
   "nbconvert_exporter": "python",
   "pygments_lexer": "ipython3",
   "version": "3.12.4"
  }
 },
 "nbformat": 4,
 "nbformat_minor": 2
}
