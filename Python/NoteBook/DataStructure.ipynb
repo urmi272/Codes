{
 "cells": [
  {
   "cell_type": "markdown",
   "metadata": {},
   "source": [
    "Data Structure Algorithm"
   ]
  },
  {
   "cell_type": "markdown",
   "metadata": {},
   "source": [
    "append(ele): Add ele to the right side\n",
    "\n",
    "appendleft(ele): Add ele to the left side\n",
    "\n",
    "clear():Remove all elements\n",
    "\n",
    "copy(): Create a shallow copy of the deque.\n",
    "\n",
    "count(ele): Count the number of deque elements equal to x.\n",
    "\n",
    "extend(): Extend the right side of the deque by appending elements from the iterable argument.\n",
    "\n",
    "extendleft(): Extend the left side \n",
    "\n",
    "index(): Return the position of x in the deque\n",
    "\n",
    "insert(i, xyz): Insert x into the deque at position i.\n",
    "\n",
    "pop(): Remove and return an element from the right side of the deque.\n",
    "\n",
    "popleft(): Remove and return an element from the left side of the deque.\n",
    "\n",
    "remove(): Remove the first occurrence of value.\n",
    "\n",
    "reverse(): Reverse the elements of the deque.\n"
   ]
  },
  {
   "cell_type": "markdown",
   "metadata": {},
   "source": [
    "array(data type, value list)"
   ]
  },
  {
   "cell_type": "code",
   "execution_count": 12,
   "metadata": {},
   "outputs": [
    {
     "name": "stdout",
     "output_type": "stream",
     "text": [
      "Array before insertion :  1 2 3 4 \n",
      "Array after insertion :  1 6 2 3 4 5 \n",
      "Array before insertion :  2.5 3.2 3.3 \n",
      "Array after insertion :  2.5 3.2 3.3 4.4 \n"
     ]
    }
   ],
   "source": [
    "import array as arr\n",
    "\n",
    "Array= arr.array('i', [1,2,3,4,5])\n",
    "print(\"Array before insertion : \", end=\" \")\n",
    "for i in range(0, 4):\n",
    "    print(Array[i], end=\" \")\n",
    "print()\n",
    "\n",
    "Array.insert(1, 6)\n",
    "\n",
    "print(\"Array after insertion : \", end=\" \")\n",
    "for i in (Array):\n",
    "    print(i, end=\" \")\n",
    "print()\n",
    "\n",
    "Arr2 = arr.array('d', [2.5, 3.2, 3.3])\n",
    "print(\"Array before insertion : \", end=\" \")\n",
    "for i in range(0, 3):\n",
    "    print(Arr2[i], end=\" \")\n",
    "print()\n",
    "\n",
    "Arr2.append(4.4)\n",
    "\n",
    "print(\"Array after insertion : \", end=\" \")\n",
    "for i in (Arr2):\n",
    "    print(i, end=\" \")\n",
    "print()\n",
    "\n"
   ]
  },
  {
   "cell_type": "code",
   "execution_count": 30,
   "metadata": {},
   "outputs": [
    {
     "name": "stdout",
     "output_type": "stream",
     "text": [
      "The popped element is : 3\n",
      "The array after popping is : 1 2 4 5 6 7 8 9 10 \n",
      "The array after removing is : 2 4 5 6 7 8 9 10 \n",
      "Access element is:  2\n",
      "Slicing elements in a range 3-8:  array('i', [6, 7, 8, 9, 10])\n",
      "Elements sliced from 5th element till the end:  array('i', [8, 9, 10])\n",
      "Printing all elements using slice operation:  array('i', [2, 4, 5, 6, 7, 8, 9, 10])\n",
      "Array after updation : 2 4 6 6 7 8 \n",
      "Number of occurrences of 6: 2\n",
      "Reversed array: 10 9 8 7 6 6 4 2\n",
      "The array after extend : 10 9 8 7 6 6 4 2 1 0 11 3 \n"
     ]
    }
   ],
   "source": [
    "import array\n",
    "arr = array.array('i', [1, 2, 3, 4, 5,6,7,8,9,10])\n",
    "print(\"The popped element is : \", end=\"\")\n",
    "print(arr.pop(2))\n",
    "print(\"The array after popping is : \", end=\"\")\n",
    "for i in range(0, 9):\n",
    "    print(arr[i], end=\" \")\n",
    "\n",
    "print(\"\\r\")\n",
    "arr.remove(1)\n",
    "print(\"The array after removing is : \", end=\"\")\n",
    "for i in range(0, 8):\n",
    "    print(arr[i], end=\" \")\n",
    "\n",
    "print(\"\\r\")\n",
    "print(\"Access element is: \", arr[0])\n",
    "\n",
    "print(\"Slicing elements in a range 3-8: \", arr[3:8])\n",
    "\n",
    "print(\"Elements sliced from 5th element till the end: \", arr[5:])\n",
    "\n",
    "print(\"Printing all elements using slice operation: \", arr[:])\n",
    "\n",
    "arr[2] = 6\n",
    "print(\"Array after updation : \", end=\"\")\n",
    "for i in range(0, 6):\n",
    "    print(arr[i], end=\" \")\n",
    "print()\n",
    "\n",
    "count = arr.count(6)\n",
    "print(\"Number of occurrences of 6:\", count)\n",
    "\n",
    "arr.reverse()\n",
    "print(\"Reversed array:\", *arr)\n",
    "\n",
    "arr.extend([1,0,11,3])\n",
    "print(\"The array after extend :\",end=\" \")\n",
    "for i in range(0,12):  \n",
    "    print(arr[i],end=\" \")     \n",
    "print()\n",
    "\n",
    "print (\"The datatype of array is : \") \n",
    "print (arr.typecode)\n",
    "\n",
    "print (\"The itemsize of array is : \")\n",
    "print (arr.itemsize)"
   ]
  },
  {
   "cell_type": "code",
   "execution_count": null,
   "metadata": {},
   "outputs": [],
   "source": []
  }
 ],
 "metadata": {
  "kernelspec": {
   "display_name": "Python 3",
   "language": "python",
   "name": "python3"
  },
  "language_info": {
   "codemirror_mode": {
    "name": "ipython",
    "version": 3
   },
   "file_extension": ".py",
   "mimetype": "text/x-python",
   "name": "python",
   "nbconvert_exporter": "python",
   "pygments_lexer": "ipython3",
   "version": "3.12.4"
  }
 },
 "nbformat": 4,
 "nbformat_minor": 2
}
