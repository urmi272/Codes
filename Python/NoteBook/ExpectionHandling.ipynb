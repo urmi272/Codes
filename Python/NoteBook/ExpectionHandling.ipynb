{
 "cells": [
  {
   "cell_type": "markdown",
   "metadata": {},
   "source": [
    "we use exception handling so that program dosen't halt due to user invalid inputs"
   ]
  },
  {
   "cell_type": "code",
   "execution_count": 5,
   "metadata": {},
   "outputs": [
    {
     "name": "stdout",
     "output_type": "stream",
     "text": [
      "Multiplication table of u is:\n",
      "Invalid Input.\n",
      "End of program!\n"
     ]
    }
   ],
   "source": [
    "a = input(\"Enter a no: \")\n",
    "print(f\"Multiplication table of {a} is:\")\n",
    "try:\n",
    "    for i in range(1,11):\n",
    "        print(f\"{int(a)} X {i} = {int(a)*i}\")\n",
    "# except Exception as e: #general exception for all type of error\n",
    "#     print(e)\n",
    "except:\n",
    "    print('Invalid Input.')\n",
    "\n",
    "print(\"End of program!\")"
   ]
  },
  {
   "cell_type": "code",
   "execution_count": 8,
   "metadata": {},
   "outputs": [
    {
     "name": "stdout",
     "output_type": "stream",
     "text": [
      "Index not found in a sequence\n"
     ]
    }
   ],
   "source": [
    "try:\n",
    "    num = int(input('Enter an interger:'))\n",
    "    a = [6,3]\n",
    "    print(a[num])\n",
    "except ValueError:\n",
    "    print(\"Number entered is not an integer\")\n",
    "except IndexError:\n",
    "    print('Index not found in a sequence')"
   ]
  },
  {
   "cell_type": "code",
   "execution_count": 17,
   "metadata": {},
   "outputs": [
    {
     "name": "stdout",
     "output_type": "stream",
     "text": [
      "Sorry. This file does not exist\n",
      "Finally!!!\n"
     ]
    }
   ],
   "source": [
    "try:\n",
    "    f = open('file.txt')\n",
    "except FileNotFoundError:\n",
    "     print('Sorry. This file does not exist')\n",
    "else:\n",
    "     print(f.read())\n",
    "     f.close()\n",
    "finally:\n",
    "     print(\"Finally!!!\") \n"
   ]
  },
  {
   "cell_type": "code",
   "execution_count": 19,
   "metadata": {},
   "outputs": [
    {
     "name": "stdout",
     "output_type": "stream",
     "text": [
      "Exception found\n"
     ]
    }
   ],
   "source": [
    "try:\n",
    "    arr = [1,2,3]\n",
    "\n",
    "    if arr[i] == 2:\n",
    "        raise Exception\n",
    "except Exception:\n",
    "    print(\"Exception found\")"
   ]
  }
 ],
 "metadata": {
  "kernelspec": {
   "display_name": "Python 3",
   "language": "python",
   "name": "python3"
  },
  "language_info": {
   "codemirror_mode": {
    "name": "ipython",
    "version": 3
   },
   "file_extension": ".py",
   "mimetype": "text/x-python",
   "name": "python",
   "nbconvert_exporter": "python",
   "pygments_lexer": "ipython3",
   "version": "3.12.4"
  }
 },
 "nbformat": 4,
 "nbformat_minor": 2
}
