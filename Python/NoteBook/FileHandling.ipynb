{
 "cells": [
  {
   "cell_type": "markdown",
   "metadata": {},
   "source": [
    "access mode - r, w, a, rb, rt etc\n",
    "\n",
    "*r --> read mode read the file, gives error it file doesnt exist* #it's also default\n",
    "\n",
    "*w --> write mode is use to write in file, file will be auto created it it doesnt exist* #w over writes the content\n",
    "\n",
    "*a --> append mode is use add new lines to an existing file*"
   ]
  },
  {
   "cell_type": "code",
   "execution_count": 17,
   "metadata": {},
   "outputs": [
    {
     "name": "stdout",
     "output_type": "stream",
     "text": [
      "Why does anything cling to something?\n",
      "Maybe they love wherever they're going so much that it's worth it.\n",
      "Maybe they'll keep coming back, until there's only one star left.\n",
      "Maybe that one star will make the trip forever, out of the hope that someday - if it keeps coming back often enough - another star will find it again.\n",
      "\n"
     ]
    }
   ],
   "source": [
    "file = open(\"myfile.txt\", 'r') \n",
    "#print(file)\n",
    "text = file.read()\n",
    "print(text)\n",
    "file.close()"
   ]
  },
  {
   "cell_type": "code",
   "execution_count": 1,
   "metadata": {},
   "outputs": [],
   "source": [
    "file = open(\"myfile2.txt\", 'w')\n",
    "file.write('I am feeling sleepy!')\n",
    "file.close() "
   ]
  },
  {
   "cell_type": "code",
   "execution_count": 19,
   "metadata": {},
   "outputs": [],
   "source": [
    "file = open(\"myfile.txt\", 'a')\n",
    "file.write(\"\\n----Rysand to Freya\")\n",
    "file.close() "
   ]
  },
  {
   "cell_type": "code",
   "execution_count": 23,
   "metadata": {},
   "outputs": [],
   "source": [
    "with open('myfile2.txt', 'a') as f:\n",
    "    f.write('\\nand now you do not have to close file each time')"
   ]
  },
  {
   "cell_type": "markdown",
   "metadata": {},
   "source": [
    "-------file methods-------"
   ]
  },
  {
   "cell_type": "markdown",
   "metadata": {},
   "source": [
    "The readline() method reads a single line from the file. If we want to read multiple lines, we can use a loop.\n",
    "The readlines() method reads all the lines of the file and returns them as a list of strings."
   ]
  },
  {
   "cell_type": "code",
   "execution_count": 26,
   "metadata": {},
   "outputs": [
    {
     "name": "stdout",
     "output_type": "stream",
     "text": [
      "Why does anything cling to something?\n",
      "\n",
      "Maybe they love wherever they're going so much that it's worth it.\n",
      "\n",
      "Maybe they'll keep coming back, until there's only one star left.\n",
      "\n",
      "Maybe that one star will make the trip forever, out of the hope that someday - if it keeps coming back often enough - another star will find it again.\n",
      "\n",
      "----Rysand to Freya\n",
      "\n"
     ]
    }
   ],
   "source": [
    "file = open(\"myfile.txt\", 'r')\n",
    "while True:\n",
    "    line = file.readline()\n",
    "    print(line)\n",
    "    if not line:\n",
    "        break"
   ]
  },
  {
   "cell_type": "code",
   "execution_count": 2,
   "metadata": {},
   "outputs": [
    {
     "name": "stdout",
     "output_type": "stream",
     "text": [
      "X Scores 23\n",
      "Y scores 45\n",
      "X Scores 34\n",
      "Y scores 78\n"
     ]
    }
   ],
   "source": [
    "f = open(\"myfile2.txt\", 'r')\n",
    "while True:\n",
    "    line = f.readline()\n",
    "    if not line:\n",
    "        break\n",
    "    x = int(line.split(\",\")[0])\n",
    "    y = int(line.split(\",\")[1])\n",
    "    print(\"X Scores\",x)\n",
    "    print(\"Y scores\", y)"
   ]
  },
  {
   "cell_type": "markdown",
   "metadata": {},
   "source": [
    "The writelines() method in Python writes a sequence of strings to a file. The sequence can be any iterable object, such as a list or a tuple."
   ]
  },
  {
   "cell_type": "code",
   "execution_count": 4,
   "metadata": {},
   "outputs": [],
   "source": [
    "f = open(\"myfile2.txt\", 'w')\n",
    "line = ['line1\\n', 'line2\\n', 'line3\\n']\n",
    "f.writelines(line)\n",
    "f.close()"
   ]
  },
  {
   "cell_type": "markdown",
   "metadata": {},
   "source": [
    "The seek() function allows you to move the current position within a file to a specific point. The position is specified in bytes, and you can move either forward or backward from the current position. "
   ]
  },
  {
   "cell_type": "markdown",
   "metadata": {},
   "source": [
    "The tell() function returns the current position within the file, in bytes. This can be useful for keeping track of your location within the file or for seeking to a specific position relative to the current position. "
   ]
  },
  {
   "cell_type": "code",
   "execution_count": 6,
   "metadata": {},
   "outputs": [
    {
     "name": "stdout",
     "output_type": "stream",
     "text": [
      "39\n",
      "Maybe they love wherever they're going so much that it's worth it.\n",
      "\n"
     ]
    }
   ],
   "source": [
    "with open(\"myfile.txt\", 'r') as f:\n",
    "    #print(type(f))\n",
    "    f.seek(39) #move the curcor to 39th byte\n",
    "    print(f.tell()) #current position\n",
    "    data = f.read(67) # read the next 67 byte\n",
    "    print(data)"
   ]
  },
  {
   "cell_type": "markdown",
   "metadata": {},
   "source": [
    "However, if you want to truncate the file to a specific size, you can use the truncate function."
   ]
  },
  {
   "cell_type": "code",
   "execution_count": 47,
   "metadata": {},
   "outputs": [
    {
     "name": "stdout",
     "output_type": "stream",
     "text": [
      "Hello\n"
     ]
    }
   ],
   "source": [
    "with open(\"myfile2.txt\", 'w') as f:\n",
    "    f.write(\"Hello world!!!\")\n",
    "    f.truncate(5) #size of file, rest will be reducted\n",
    "\n",
    "with open(\"myfile2.txt\", 'r') as f:\n",
    "    print(f.read())"
   ]
  }
 ],
 "metadata": {
  "kernelspec": {
   "display_name": "Python 3",
   "language": "python",
   "name": "python3"
  },
  "language_info": {
   "codemirror_mode": {
    "name": "ipython",
    "version": 3
   },
   "file_extension": ".py",
   "mimetype": "text/x-python",
   "name": "python",
   "nbconvert_exporter": "python",
   "pygments_lexer": "ipython3",
   "version": "3.12.4"
  }
 },
 "nbformat": 4,
 "nbformat_minor": 2
}
